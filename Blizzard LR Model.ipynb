{
 "cells": [
  {
   "cell_type": "code",
   "execution_count": 378,
   "id": "417ce62a-bb99-4f33-b84d-7691ac2c0ccd",
   "metadata": {},
   "outputs": [],
   "source": [
    "########### Stock Price Predictions using Linear Regression ###########\n",
    "\n",
    "#Mr Z is a huge fan of blizzard company and he has an extra money for an investment. He want to invest in a company with high reputation and strong uptrend\n",
    "#It is important for him to analyze the company performance and its stock price pattern before he started to invest.\n",
    "#Then, he also want to know when is the right time to buy the stock.\n",
    "\n",
    "'''\n",
    "In this case, we want to apply linear regression (LR) method for the stock price prediction. We focus on developing the LR model based on the historical\n",
    "data provided and we also included technical indicator in training our model to predict future prices.\n",
    "'''\n",
    "#Let's get started!\n",
    "\n",
    "##### Import Packages & Read Data #####\n",
    "\n",
    "#First thing first, we need to import python packages and load our data before we start to process it\n",
    "\n",
    "import pandas as pd\n",
    "import numpy as np\n",
    "import matplotlib.pyplot as plt"
   ]
  },
  {
   "cell_type": "code",
   "execution_count": 379,
   "id": "1f1bf73d-423f-4e75-b0ac-fbe975a7af30",
   "metadata": {},
   "outputs": [],
   "source": [
    "path = %pwd\n",
    "\n",
    "histdata = pd.read_csv(path + 'dataset/act_bliz.csv')"
   ]
  },
  {
   "cell_type": "code",
   "execution_count": 380,
   "id": "9468cde1-4d35-4e58-a0f0-e2bc0a74b72f",
   "metadata": {},
   "outputs": [
    {
     "data": {
      "text/html": [
       "<div>\n",
       "<style scoped>\n",
       "    .dataframe tbody tr th:only-of-type {\n",
       "        vertical-align: middle;\n",
       "    }\n",
       "\n",
       "    .dataframe tbody tr th {\n",
       "        vertical-align: top;\n",
       "    }\n",
       "\n",
       "    .dataframe thead th {\n",
       "        text-align: right;\n",
       "    }\n",
       "</style>\n",
       "<table border=\"1\" class=\"dataframe\">\n",
       "  <thead>\n",
       "    <tr style=\"text-align: right;\">\n",
       "      <th></th>\n",
       "      <th>Date</th>\n",
       "      <th>Open</th>\n",
       "      <th>High</th>\n",
       "      <th>Low</th>\n",
       "      <th>Close</th>\n",
       "      <th>Volume</th>\n",
       "      <th>Currency</th>\n",
       "    </tr>\n",
       "  </thead>\n",
       "  <tbody>\n",
       "    <tr>\n",
       "      <th>0</th>\n",
       "      <td>2010-01-04</td>\n",
       "      <td>11.23</td>\n",
       "      <td>11.45</td>\n",
       "      <td>11.15</td>\n",
       "      <td>11.30</td>\n",
       "      <td>9310055</td>\n",
       "      <td>USD</td>\n",
       "    </tr>\n",
       "    <tr>\n",
       "      <th>1</th>\n",
       "      <td>2010-01-05</td>\n",
       "      <td>11.24</td>\n",
       "      <td>11.36</td>\n",
       "      <td>11.21</td>\n",
       "      <td>11.32</td>\n",
       "      <td>11370203</td>\n",
       "      <td>USD</td>\n",
       "    </tr>\n",
       "    <tr>\n",
       "      <th>2</th>\n",
       "      <td>2010-01-06</td>\n",
       "      <td>11.26</td>\n",
       "      <td>11.38</td>\n",
       "      <td>11.21</td>\n",
       "      <td>11.26</td>\n",
       "      <td>6541811</td>\n",
       "      <td>USD</td>\n",
       "    </tr>\n",
       "    <tr>\n",
       "      <th>3</th>\n",
       "      <td>2010-01-07</td>\n",
       "      <td>11.10</td>\n",
       "      <td>11.19</td>\n",
       "      <td>10.93</td>\n",
       "      <td>10.99</td>\n",
       "      <td>15392067</td>\n",
       "      <td>USD</td>\n",
       "    </tr>\n",
       "    <tr>\n",
       "      <th>4</th>\n",
       "      <td>2010-01-08</td>\n",
       "      <td>10.97</td>\n",
       "      <td>11.05</td>\n",
       "      <td>10.88</td>\n",
       "      <td>10.90</td>\n",
       "      <td>11003838</td>\n",
       "      <td>USD</td>\n",
       "    </tr>\n",
       "  </tbody>\n",
       "</table>\n",
       "</div>"
      ],
      "text/plain": [
       "         Date   Open   High    Low  Close    Volume Currency\n",
       "0  2010-01-04  11.23  11.45  11.15  11.30   9310055      USD\n",
       "1  2010-01-05  11.24  11.36  11.21  11.32  11370203      USD\n",
       "2  2010-01-06  11.26  11.38  11.21  11.26   6541811      USD\n",
       "3  2010-01-07  11.10  11.19  10.93  10.99  15392067      USD\n",
       "4  2010-01-08  10.97  11.05  10.88  10.90  11003838      USD"
      ]
     },
     "execution_count": 380,
     "metadata": {},
     "output_type": "execute_result"
    }
   ],
   "source": [
    "# This is how our data looks like\n",
    "histdata.head()"
   ]
  },
  {
   "cell_type": "code",
   "execution_count": 381,
   "id": "a7533bd5-4d5f-4ecc-8dca-e0f34c18f1be",
   "metadata": {},
   "outputs": [
    {
     "name": "stdout",
     "output_type": "stream",
     "text": [
      "<class 'pandas.core.frame.DataFrame'>\n",
      "RangeIndex: 3094 entries, 0 to 3093\n",
      "Data columns (total 7 columns):\n",
      " #   Column    Non-Null Count  Dtype  \n",
      "---  ------    --------------  -----  \n",
      " 0   Date      3094 non-null   object \n",
      " 1   Open      3094 non-null   float64\n",
      " 2   High      3094 non-null   float64\n",
      " 3   Low       3094 non-null   float64\n",
      " 4   Close     3094 non-null   float64\n",
      " 5   Volume    3094 non-null   int64  \n",
      " 6   Currency  3094 non-null   object \n",
      "dtypes: float64(4), int64(1), object(2)\n",
      "memory usage: 169.3+ KB\n"
     ]
    }
   ],
   "source": [
    "##### Data Cleaning & Preparation #####\n",
    "\n",
    "#Apply exploratory descriptive analysis (EDA) method to analyze the data\n",
    "#This dataset is good as there are no missing values in our data\n",
    "#Good quality of dataset will generate high model accuracy\n",
    "\n",
    "\n",
    "histdata.info()"
   ]
  },
  {
   "cell_type": "code",
   "execution_count": 382,
   "id": "90ec547a-0933-492e-a866-7c28788f4a99",
   "metadata": {},
   "outputs": [
    {
     "data": {
      "text/html": [
       "<div>\n",
       "<style scoped>\n",
       "    .dataframe tbody tr th:only-of-type {\n",
       "        vertical-align: middle;\n",
       "    }\n",
       "\n",
       "    .dataframe tbody tr th {\n",
       "        vertical-align: top;\n",
       "    }\n",
       "\n",
       "    .dataframe thead th {\n",
       "        text-align: right;\n",
       "    }\n",
       "</style>\n",
       "<table border=\"1\" class=\"dataframe\">\n",
       "  <thead>\n",
       "    <tr style=\"text-align: right;\">\n",
       "      <th></th>\n",
       "      <th>Open</th>\n",
       "      <th>High</th>\n",
       "      <th>Low</th>\n",
       "      <th>Close</th>\n",
       "      <th>Volume</th>\n",
       "    </tr>\n",
       "  </thead>\n",
       "  <tbody>\n",
       "    <tr>\n",
       "      <th>count</th>\n",
       "      <td>3094.000000</td>\n",
       "      <td>3094.000000</td>\n",
       "      <td>3094.000000</td>\n",
       "      <td>3094.000000</td>\n",
       "      <td>3.094000e+03</td>\n",
       "    </tr>\n",
       "    <tr>\n",
       "      <th>mean</th>\n",
       "      <td>40.020016</td>\n",
       "      <td>40.490152</td>\n",
       "      <td>39.496092</td>\n",
       "      <td>40.007146</td>\n",
       "      <td>8.437610e+06</td>\n",
       "    </tr>\n",
       "    <tr>\n",
       "      <th>std</th>\n",
       "      <td>26.762533</td>\n",
       "      <td>27.053985</td>\n",
       "      <td>26.408768</td>\n",
       "      <td>26.731874</td>\n",
       "      <td>6.041151e+06</td>\n",
       "    </tr>\n",
       "    <tr>\n",
       "      <th>min</th>\n",
       "      <td>9.970000</td>\n",
       "      <td>10.160000</td>\n",
       "      <td>9.930000</td>\n",
       "      <td>10.010000</td>\n",
       "      <td>4.627200e+05</td>\n",
       "    </tr>\n",
       "    <tr>\n",
       "      <th>25%</th>\n",
       "      <td>13.402500</td>\n",
       "      <td>13.565000</td>\n",
       "      <td>13.272500</td>\n",
       "      <td>13.467500</td>\n",
       "      <td>5.281720e+06</td>\n",
       "    </tr>\n",
       "    <tr>\n",
       "      <th>50%</th>\n",
       "      <td>35.185000</td>\n",
       "      <td>35.485000</td>\n",
       "      <td>34.755000</td>\n",
       "      <td>35.175000</td>\n",
       "      <td>7.047754e+06</td>\n",
       "    </tr>\n",
       "    <tr>\n",
       "      <th>75%</th>\n",
       "      <td>62.622500</td>\n",
       "      <td>63.367500</td>\n",
       "      <td>61.980000</td>\n",
       "      <td>62.745000</td>\n",
       "      <td>9.745516e+06</td>\n",
       "    </tr>\n",
       "    <tr>\n",
       "      <th>max</th>\n",
       "      <td>103.820000</td>\n",
       "      <td>104.490000</td>\n",
       "      <td>102.580000</td>\n",
       "      <td>103.810000</td>\n",
       "      <td>1.330824e+08</td>\n",
       "    </tr>\n",
       "  </tbody>\n",
       "</table>\n",
       "</div>"
      ],
      "text/plain": [
       "              Open         High          Low        Close        Volume\n",
       "count  3094.000000  3094.000000  3094.000000  3094.000000  3.094000e+03\n",
       "mean     40.020016    40.490152    39.496092    40.007146  8.437610e+06\n",
       "std      26.762533    27.053985    26.408768    26.731874  6.041151e+06\n",
       "min       9.970000    10.160000     9.930000    10.010000  4.627200e+05\n",
       "25%      13.402500    13.565000    13.272500    13.467500  5.281720e+06\n",
       "50%      35.185000    35.485000    34.755000    35.175000  7.047754e+06\n",
       "75%      62.622500    63.367500    61.980000    62.745000  9.745516e+06\n",
       "max     103.820000   104.490000   102.580000   103.810000  1.330824e+08"
      ]
     },
     "execution_count": 382,
     "metadata": {},
     "output_type": "execute_result"
    }
   ],
   "source": [
    "#summary statistics\n",
    "histdata.describe()"
   ]
  },
  {
   "cell_type": "code",
   "execution_count": 383,
   "id": "a346b2b2-a284-4146-960d-7ae820c856fc",
   "metadata": {},
   "outputs": [],
   "source": [
    "#Set index 'Date' column as dataframe index\n",
    "histdata.set_index(pd.DatetimeIndex(histdata[\"Date\"]),inplace=True)"
   ]
  },
  {
   "cell_type": "code",
   "execution_count": 384,
   "id": "29794b04-cc13-457c-8872-80d5fa399ddc",
   "metadata": {},
   "outputs": [
    {
     "data": {
      "text/html": [
       "<div>\n",
       "<style scoped>\n",
       "    .dataframe tbody tr th:only-of-type {\n",
       "        vertical-align: middle;\n",
       "    }\n",
       "\n",
       "    .dataframe tbody tr th {\n",
       "        vertical-align: top;\n",
       "    }\n",
       "\n",
       "    .dataframe thead th {\n",
       "        text-align: right;\n",
       "    }\n",
       "</style>\n",
       "<table border=\"1\" class=\"dataframe\">\n",
       "  <thead>\n",
       "    <tr style=\"text-align: right;\">\n",
       "      <th></th>\n",
       "      <th>Date</th>\n",
       "      <th>Open</th>\n",
       "      <th>High</th>\n",
       "      <th>Low</th>\n",
       "      <th>Close</th>\n",
       "      <th>Volume</th>\n",
       "      <th>Currency</th>\n",
       "    </tr>\n",
       "    <tr>\n",
       "      <th>Date</th>\n",
       "      <th></th>\n",
       "      <th></th>\n",
       "      <th></th>\n",
       "      <th></th>\n",
       "      <th></th>\n",
       "      <th></th>\n",
       "      <th></th>\n",
       "    </tr>\n",
       "  </thead>\n",
       "  <tbody>\n",
       "    <tr>\n",
       "      <th>2010-01-04</th>\n",
       "      <td>2010-01-04</td>\n",
       "      <td>11.23</td>\n",
       "      <td>11.45</td>\n",
       "      <td>11.15</td>\n",
       "      <td>11.30</td>\n",
       "      <td>9310055</td>\n",
       "      <td>USD</td>\n",
       "    </tr>\n",
       "    <tr>\n",
       "      <th>2010-01-05</th>\n",
       "      <td>2010-01-05</td>\n",
       "      <td>11.24</td>\n",
       "      <td>11.36</td>\n",
       "      <td>11.21</td>\n",
       "      <td>11.32</td>\n",
       "      <td>11370203</td>\n",
       "      <td>USD</td>\n",
       "    </tr>\n",
       "    <tr>\n",
       "      <th>2010-01-06</th>\n",
       "      <td>2010-01-06</td>\n",
       "      <td>11.26</td>\n",
       "      <td>11.38</td>\n",
       "      <td>11.21</td>\n",
       "      <td>11.26</td>\n",
       "      <td>6541811</td>\n",
       "      <td>USD</td>\n",
       "    </tr>\n",
       "    <tr>\n",
       "      <th>2010-01-07</th>\n",
       "      <td>2010-01-07</td>\n",
       "      <td>11.10</td>\n",
       "      <td>11.19</td>\n",
       "      <td>10.93</td>\n",
       "      <td>10.99</td>\n",
       "      <td>15392067</td>\n",
       "      <td>USD</td>\n",
       "    </tr>\n",
       "    <tr>\n",
       "      <th>2010-01-08</th>\n",
       "      <td>2010-01-08</td>\n",
       "      <td>10.97</td>\n",
       "      <td>11.05</td>\n",
       "      <td>10.88</td>\n",
       "      <td>10.90</td>\n",
       "      <td>11003838</td>\n",
       "      <td>USD</td>\n",
       "    </tr>\n",
       "  </tbody>\n",
       "</table>\n",
       "</div>"
      ],
      "text/plain": [
       "                  Date   Open   High    Low  Close    Volume Currency\n",
       "Date                                                                 \n",
       "2010-01-04  2010-01-04  11.23  11.45  11.15  11.30   9310055      USD\n",
       "2010-01-05  2010-01-05  11.24  11.36  11.21  11.32  11370203      USD\n",
       "2010-01-06  2010-01-06  11.26  11.38  11.21  11.26   6541811      USD\n",
       "2010-01-07  2010-01-07  11.10  11.19  10.93  10.99  15392067      USD\n",
       "2010-01-08  2010-01-08  10.97  11.05  10.88  10.90  11003838      USD"
      ]
     },
     "execution_count": 384,
     "metadata": {},
     "output_type": "execute_result"
    }
   ],
   "source": [
    "histdata.head()"
   ]
  },
  {
   "cell_type": "code",
   "execution_count": 385,
   "id": "be1666ee-f233-49ef-acd3-3e5048b53e4c",
   "metadata": {},
   "outputs": [
    {
     "data": {
      "image/png": "[encoded data removed]",
      "text/plain": [
       "<Figure size 360x360 with 1 Axes>"
      ]
     },
     "metadata": {
      "needs_background": "light"
     },
     "output_type": "display_data"
    }
   ],
   "source": [
    "#To further analyze our data, we also would like to see if outliers exist in our dataset\n",
    "#Plot boxplot graph to identify the outliers\n",
    "#By referring to the boxplot, thankfully there is no outlier in our dataset\n",
    "\n",
    "sns.catplot(x='Close',kind='box',data=histdata)\n",
    "plt.show()"
   ]
  },
  {
   "cell_type": "code",
   "execution_count": 386,
   "id": "9d971e94-20c6-4d70-9f0b-763034c1b9f5",
   "metadata": {},
   "outputs": [],
   "source": [
    "#we'll use Close variable only\n",
    "df = histdata[[\"Close\"]]"
   ]
  },
  {
   "cell_type": "code",
   "execution_count": 387,
   "id": "dff9b9ec-317b-4c61-a665-3305bd294b71",
   "metadata": {},
   "outputs": [
    {
     "data": {
      "text/html": [
       "<div>\n",
       "<style scoped>\n",
       "    .dataframe tbody tr th:only-of-type {\n",
       "        vertical-align: middle;\n",
       "    }\n",
       "\n",
       "    .dataframe tbody tr th {\n",
       "        vertical-align: top;\n",
       "    }\n",
       "\n",
       "    .dataframe thead th {\n",
       "        text-align: right;\n",
       "    }\n",
       "</style>\n",
       "<table border=\"1\" class=\"dataframe\">\n",
       "  <thead>\n",
       "    <tr style=\"text-align: right;\">\n",
       "      <th></th>\n",
       "      <th>Close</th>\n",
       "    </tr>\n",
       "    <tr>\n",
       "      <th>Date</th>\n",
       "      <th></th>\n",
       "    </tr>\n",
       "  </thead>\n",
       "  <tbody>\n",
       "    <tr>\n",
       "      <th>2010-01-04</th>\n",
       "      <td>11.30</td>\n",
       "    </tr>\n",
       "    <tr>\n",
       "      <th>2010-01-05</th>\n",
       "      <td>11.32</td>\n",
       "    </tr>\n",
       "    <tr>\n",
       "      <th>2010-01-06</th>\n",
       "      <td>11.26</td>\n",
       "    </tr>\n",
       "    <tr>\n",
       "      <th>2010-01-07</th>\n",
       "      <td>10.99</td>\n",
       "    </tr>\n",
       "    <tr>\n",
       "      <th>2010-01-08</th>\n",
       "      <td>10.90</td>\n",
       "    </tr>\n",
       "  </tbody>\n",
       "</table>\n",
       "</div>"
      ],
      "text/plain": [
       "            Close\n",
       "Date             \n",
       "2010-01-04  11.30\n",
       "2010-01-05  11.32\n",
       "2010-01-06  11.26\n",
       "2010-01-07  10.99\n",
       "2010-01-08  10.90"
      ]
     },
     "execution_count": 387,
     "metadata": {},
     "output_type": "execute_result"
    }
   ],
   "source": [
    "df.head()"
   ]
  },
  {
   "cell_type": "code",
   "execution_count": 388,
   "id": "6ab34905-2e6f-4f5a-8f7e-e7f7025d00be",
   "metadata": {},
   "outputs": [
    {
     "name": "stdout",
     "output_type": "stream",
     "text": [
      "<class 'pandas.core.frame.DataFrame'>\n",
      "DatetimeIndex: 3094 entries, 2010-01-04 to 2022-04-14\n",
      "Data columns (total 1 columns):\n",
      " #   Column  Non-Null Count  Dtype  \n",
      "---  ------  --------------  -----  \n",
      " 0   Close   3094 non-null   float64\n",
      "dtypes: float64(1)\n",
      "memory usage: 48.3 KB\n"
     ]
    }
   ],
   "source": [
    "df.info()"
   ]
  },
  {
   "cell_type": "code",
   "execution_count": 389,
   "id": "74a44121-6e96-44ef-9527-9b82696968ee",
   "metadata": {},
   "outputs": [
    {
     "data": {
      "image/png": "[encoded data removed]",
      "text/plain": [
       "<Figure size 1080x576 with 1 Axes>"
      ]
     },
     "metadata": {
      "needs_background": "light"
     },
     "output_type": "display_data"
    }
   ],
   "source": [
    "#Let's plot the original price and see the trend\n",
    "#The graph shows that the price movement is in uptrend\n",
    "#Thus, it met Mr Z's requirement\n",
    "\n",
    "\n",
    "df.plot.line(y=\"Close\",use_index=True,figsize=(15,8))\n",
    "plt.ylabel('Price')\n",
    "plt.show()"
   ]
  },
  {
   "cell_type": "code",
   "execution_count": 390,
   "id": "7667c204-27b6-4a55-8ff7-867af87224be",
   "metadata": {},
   "outputs": [
    {
     "name": "stderr",
     "output_type": "stream",
     "text": [
      "/Users/harishusnan/opt/anaconda3/lib/python3.8/site-packages/pandas_ta/core.py:426: SettingWithCopyWarning: \n",
      "A value is trying to be set on a copy of a slice from a DataFrame.\n",
      "Try using .loc[row_indexer,col_indexer] = value instead\n",
      "\n",
      "See the caveats in the documentation: https://pandas.pydata.org/pandas-docs/stable/user_guide/indexing.html#returning-a-view-versus-a-copy\n",
      "  df[ind_name] = result\n"
     ]
    },
    {
     "data": {
      "text/plain": [
       "Date\n",
       "2010-01-04          NaN\n",
       "2010-01-05          NaN\n",
       "2010-01-06          NaN\n",
       "2010-01-07          NaN\n",
       "2010-01-08          NaN\n",
       "                ...    \n",
       "2022-04-08    80.180280\n",
       "2022-04-11    80.052957\n",
       "2022-04-12    79.959692\n",
       "2022-04-13    79.803384\n",
       "2022-04-14    79.666405\n",
       "Name: EMA_10, Length: 3094, dtype: float64"
      ]
     },
     "execution_count": 390,
     "metadata": {},
     "output_type": "execute_result"
    }
   ],
   "source": [
    "# As mentioned above, we will add a technical indicator in our stock price prediction model\n",
    "# There are a lot of technical indicators available such as SMA,EMA,MACD and many more. In our case, we'll use Exponential Moving Average (EMA) as our technical indicator\n",
    "# Fortunately, python has a module called pandas_ta which consists of list of technical indicators for technical analysis(TA) purposes.\n",
    "# To apply EMA in our analysis, we need to specify the number of period that we want to calculate its average values\n",
    "# We decided to calculate the EMA over 10 days period and add the values into new column in our dataset\n",
    "\n",
    "import pandas_ta\n",
    "\n",
    "#EMA calculated over 10-days period, length = 10 and append into existing dataframe\n",
    "df.ta.ema(close=\"Close\",length=10,append=True)"
   ]
  },
  {
   "cell_type": "code",
   "execution_count": 391,
   "id": "2b2a6558-615b-474b-aae3-ec433290b151",
   "metadata": {},
   "outputs": [
    {
     "name": "stdout",
     "output_type": "stream",
     "text": [
      "<class 'pandas.core.frame.DataFrame'>\n",
      "DatetimeIndex: 3094 entries, 2010-01-04 to 2022-04-14\n",
      "Data columns (total 2 columns):\n",
      " #   Column  Non-Null Count  Dtype  \n",
      "---  ------  --------------  -----  \n",
      " 0   Close   3094 non-null   float64\n",
      " 1   EMA_10  3085 non-null   float64\n",
      "dtypes: float64(2)\n",
      "memory usage: 72.5 KB\n"
     ]
    }
   ],
   "source": [
    "#inspect data\n",
    "df.info()"
   ]
  },
  {
   "cell_type": "code",
   "execution_count": 392,
   "id": "d11eeec2-537a-4b41-b14e-6352fb3e9531",
   "metadata": {},
   "outputs": [
    {
     "data": {
      "text/html": [
       "<div>\n",
       "<style scoped>\n",
       "    .dataframe tbody tr th:only-of-type {\n",
       "        vertical-align: middle;\n",
       "    }\n",
       "\n",
       "    .dataframe tbody tr th {\n",
       "        vertical-align: top;\n",
       "    }\n",
       "\n",
       "    .dataframe thead th {\n",
       "        text-align: right;\n",
       "    }\n",
       "</style>\n",
       "<table border=\"1\" class=\"dataframe\">\n",
       "  <thead>\n",
       "    <tr style=\"text-align: right;\">\n",
       "      <th></th>\n",
       "      <th>Close</th>\n",
       "      <th>EMA_10</th>\n",
       "    </tr>\n",
       "    <tr>\n",
       "      <th>Date</th>\n",
       "      <th></th>\n",
       "      <th></th>\n",
       "    </tr>\n",
       "  </thead>\n",
       "  <tbody>\n",
       "    <tr>\n",
       "      <th>2010-01-04</th>\n",
       "      <td>11.30</td>\n",
       "      <td>NaN</td>\n",
       "    </tr>\n",
       "    <tr>\n",
       "      <th>2010-01-05</th>\n",
       "      <td>11.32</td>\n",
       "      <td>NaN</td>\n",
       "    </tr>\n",
       "    <tr>\n",
       "      <th>2010-01-06</th>\n",
       "      <td>11.26</td>\n",
       "      <td>NaN</td>\n",
       "    </tr>\n",
       "    <tr>\n",
       "      <th>2010-01-07</th>\n",
       "      <td>10.99</td>\n",
       "      <td>NaN</td>\n",
       "    </tr>\n",
       "    <tr>\n",
       "      <th>2010-01-08</th>\n",
       "      <td>10.90</td>\n",
       "      <td>NaN</td>\n",
       "    </tr>\n",
       "    <tr>\n",
       "      <th>2010-01-11</th>\n",
       "      <td>10.89</td>\n",
       "      <td>NaN</td>\n",
       "    </tr>\n",
       "    <tr>\n",
       "      <th>2010-01-12</th>\n",
       "      <td>10.77</td>\n",
       "      <td>NaN</td>\n",
       "    </tr>\n",
       "    <tr>\n",
       "      <th>2010-01-13</th>\n",
       "      <td>10.91</td>\n",
       "      <td>NaN</td>\n",
       "    </tr>\n",
       "    <tr>\n",
       "      <th>2010-01-14</th>\n",
       "      <td>10.86</td>\n",
       "      <td>NaN</td>\n",
       "    </tr>\n",
       "    <tr>\n",
       "      <th>2010-01-15</th>\n",
       "      <td>10.89</td>\n",
       "      <td>11.009</td>\n",
       "    </tr>\n",
       "  </tbody>\n",
       "</table>\n",
       "</div>"
      ],
      "text/plain": [
       "            Close  EMA_10\n",
       "Date                     \n",
       "2010-01-04  11.30     NaN\n",
       "2010-01-05  11.32     NaN\n",
       "2010-01-06  11.26     NaN\n",
       "2010-01-07  10.99     NaN\n",
       "2010-01-08  10.90     NaN\n",
       "2010-01-11  10.89     NaN\n",
       "2010-01-12  10.77     NaN\n",
       "2010-01-13  10.91     NaN\n",
       "2010-01-14  10.86     NaN\n",
       "2010-01-15  10.89  11.009"
      ]
     },
     "execution_count": 392,
     "metadata": {},
     "output_type": "execute_result"
    }
   ],
   "source": [
    "#since we have NaN values in our data\n",
    "#we choose to drop the NaN values\n",
    "#NaN values existed due to no preceeding values from which EMA function could be calculated\n",
    "#EMA function calculated the average value by getting the values from Day 1 - Day 10 divided by count = 10 (days) and display on 10th row\n",
    "\n",
    "df.head(10)"
   ]
  },
  {
   "cell_type": "code",
   "execution_count": 393,
   "id": "d0177e72-cc63-4825-9c61-6e718554b3e4",
   "metadata": {},
   "outputs": [
    {
     "data": {
      "text/html": [
       "<div>\n",
       "<style scoped>\n",
       "    .dataframe tbody tr th:only-of-type {\n",
       "        vertical-align: middle;\n",
       "    }\n",
       "\n",
       "    .dataframe tbody tr th {\n",
       "        vertical-align: top;\n",
       "    }\n",
       "\n",
       "    .dataframe thead th {\n",
       "        text-align: right;\n",
       "    }\n",
       "</style>\n",
       "<table border=\"1\" class=\"dataframe\">\n",
       "  <thead>\n",
       "    <tr style=\"text-align: right;\">\n",
       "      <th></th>\n",
       "      <th>Close</th>\n",
       "      <th>EMA_10</th>\n",
       "    </tr>\n",
       "    <tr>\n",
       "      <th>Date</th>\n",
       "      <th></th>\n",
       "      <th></th>\n",
       "    </tr>\n",
       "  </thead>\n",
       "  <tbody>\n",
       "    <tr>\n",
       "      <th>2010-01-15</th>\n",
       "      <td>10.89</td>\n",
       "      <td>11.009000</td>\n",
       "    </tr>\n",
       "    <tr>\n",
       "      <th>2010-01-19</th>\n",
       "      <td>10.84</td>\n",
       "      <td>10.978273</td>\n",
       "    </tr>\n",
       "    <tr>\n",
       "      <th>2010-01-20</th>\n",
       "      <td>10.82</td>\n",
       "      <td>10.949496</td>\n",
       "    </tr>\n",
       "    <tr>\n",
       "      <th>2010-01-21</th>\n",
       "      <td>10.59</td>\n",
       "      <td>10.884133</td>\n",
       "    </tr>\n",
       "    <tr>\n",
       "      <th>2010-01-22</th>\n",
       "      <td>10.37</td>\n",
       "      <td>10.790654</td>\n",
       "    </tr>\n",
       "  </tbody>\n",
       "</table>\n",
       "</div>"
      ],
      "text/plain": [
       "            Close     EMA_10\n",
       "Date                        \n",
       "2010-01-15  10.89  11.009000\n",
       "2010-01-19  10.84  10.978273\n",
       "2010-01-20  10.82  10.949496\n",
       "2010-01-21  10.59  10.884133\n",
       "2010-01-22  10.37  10.790654"
      ]
     },
     "execution_count": 393,
     "metadata": {},
     "output_type": "execute_result"
    }
   ],
   "source": [
    "#One of the options to deal with missing values is to drop the rows with missing values\n",
    "df=df.dropna()\n",
    "df.head()"
   ]
  },
  {
   "cell_type": "code",
   "execution_count": 394,
   "id": "508254e3-8249-4cfe-ab81-a4706bff8ec3",
   "metadata": {},
   "outputs": [
    {
     "data": {
      "image/png": "[encoded data removed]",
      "text/plain": [
       "<Figure size 1440x720 with 1 Axes>"
      ]
     },
     "metadata": {
      "needs_background": "light"
     },
     "output_type": "display_data"
    }
   ],
   "source": [
    "#The plot shows that there is only a small difference between actual and EMA-10 values\n",
    "#Thus we can proceed with the model development\n",
    "\n",
    "df.plot.line(use_index=True,figsize=(20,10))\n",
    "plt.ylabel('Price')\n",
    "plt.show()"
   ]
  },
  {
   "cell_type": "code",
   "execution_count": 395,
   "id": "130c3a72-96f0-475d-bc69-dd89eb7258b5",
   "metadata": {},
   "outputs": [],
   "source": [
    "##### Linear Regression Model Development #####\n",
    "\n",
    "#In order to develop our model, we need to split the data set\n",
    "#So, we apply 80/20 partition to form our training and testing data set\n",
    "\n",
    "from sklearn.model_selection import train_test_split\n",
    "\n",
    "x_train,x_test,y_train,y_test = train_test_split(df[[\"Close\"]],df[[\"EMA_10\"]],test_size=0.2)"
   ]
  },
  {
   "cell_type": "code",
   "execution_count": 400,
   "id": "2baa51fb-b86e-48bb-8cd3-7f80e1c8232d",
   "metadata": {},
   "outputs": [],
   "source": [
    "#build the model\n",
    "\n",
    "from sklearn.linear_model import LinearRegression\n",
    "\n",
    "#set the model\n",
    "model = LinearRegression()\n",
    "\n",
    "#train the model\n",
    "model.fit(x_train,y_train)\n",
    "\n",
    "#test model with 617 samples\n",
    "y_pred = model.predict(x_test)"
   ]
  },
  {
   "cell_type": "code",
   "execution_count": 401,
   "id": "b505327b-f594-43a5-a74d-fe6242b39715",
   "metadata": {},
   "outputs": [
    {
     "name": "stdout",
     "output_type": "stream",
     "text": [
      "Model coefficient:  [[0.997193]]\n",
      "Model mean absolute error:  0.8000523819054354\n",
      "Model R squared error:  0.997697427850917\n"
     ]
    }
   ],
   "source": [
    "#Now, we have developed our model and we need to determine how well it's performed\n",
    "#We evaluate our model using coefficient of determination (r2_score) and mean absolute error\n",
    "#We can conclude that our LR model fits our data very well\n",
    "from sklearn.metrics import r2_score,mean_absolute_error\n",
    "\n",
    "#evaluation metrics\n",
    "#lower MAE is better\n",
    "#closer model correlation coefficient to 1.0 the better\n",
    "print(\"Model coefficient: \", model.coef_)\n",
    "print(\"Model mean absolute error: \", mean_absolute_error(y_test,y_pred))\n",
    "print(\"Model R squared error: \", r2_score(y_test,y_pred))"
   ]
  },
  {
   "cell_type": "code",
   "execution_count": 403,
   "id": "2cff3ee2-15f1-4b39-8dad-386123729f0b",
   "metadata": {},
   "outputs": [
    {
     "data": {
      "text/html": [
       "<div>\n",
       "<style scoped>\n",
       "    .dataframe tbody tr th:only-of-type {\n",
       "        vertical-align: middle;\n",
       "    }\n",
       "\n",
       "    .dataframe tbody tr th {\n",
       "        vertical-align: top;\n",
       "    }\n",
       "\n",
       "    .dataframe thead th {\n",
       "        text-align: right;\n",
       "    }\n",
       "</style>\n",
       "<table border=\"1\" class=\"dataframe\">\n",
       "  <thead>\n",
       "    <tr style=\"text-align: right;\">\n",
       "      <th></th>\n",
       "      <th>EMA_10</th>\n",
       "      <th>Predicted</th>\n",
       "    </tr>\n",
       "    <tr>\n",
       "      <th>Date</th>\n",
       "      <th></th>\n",
       "      <th></th>\n",
       "    </tr>\n",
       "  </thead>\n",
       "  <tbody>\n",
       "    <tr>\n",
       "      <th>2016-08-18</th>\n",
       "      <td>40.471705</td>\n",
       "      <td>39.942460</td>\n",
       "    </tr>\n",
       "    <tr>\n",
       "      <th>2020-09-23</th>\n",
       "      <td>80.554974</td>\n",
       "      <td>79.939871</td>\n",
       "    </tr>\n",
       "    <tr>\n",
       "      <th>2017-04-04</th>\n",
       "      <td>49.402258</td>\n",
       "      <td>48.937141</td>\n",
       "    </tr>\n",
       "    <tr>\n",
       "      <th>2016-05-16</th>\n",
       "      <td>37.153312</td>\n",
       "      <td>39.314228</td>\n",
       "    </tr>\n",
       "    <tr>\n",
       "      <th>2021-11-26</th>\n",
       "      <td>63.572786</td>\n",
       "      <td>60.484636</td>\n",
       "    </tr>\n",
       "    <tr>\n",
       "      <th>...</th>\n",
       "      <td>...</td>\n",
       "      <td>...</td>\n",
       "    </tr>\n",
       "    <tr>\n",
       "      <th>2020-08-21</th>\n",
       "      <td>82.558984</td>\n",
       "      <td>83.011226</td>\n",
       "    </tr>\n",
       "    <tr>\n",
       "      <th>2013-08-23</th>\n",
       "      <td>16.948557</td>\n",
       "      <td>16.707863</td>\n",
       "    </tr>\n",
       "    <tr>\n",
       "      <th>2011-02-08</th>\n",
       "      <td>11.660433</td>\n",
       "      <td>11.881449</td>\n",
       "    </tr>\n",
       "    <tr>\n",
       "      <th>2020-09-09</th>\n",
       "      <td>80.762878</td>\n",
       "      <td>79.401387</td>\n",
       "    </tr>\n",
       "    <tr>\n",
       "      <th>2014-07-16</th>\n",
       "      <td>22.567510</td>\n",
       "      <td>22.990179</td>\n",
       "    </tr>\n",
       "  </tbody>\n",
       "</table>\n",
       "<p>617 rows × 2 columns</p>\n",
       "</div>"
      ],
      "text/plain": [
       "               EMA_10  Predicted\n",
       "Date                            \n",
       "2016-08-18  40.471705  39.942460\n",
       "2020-09-23  80.554974  79.939871\n",
       "2017-04-04  49.402258  48.937141\n",
       "2016-05-16  37.153312  39.314228\n",
       "2021-11-26  63.572786  60.484636\n",
       "...               ...        ...\n",
       "2020-08-21  82.558984  83.011226\n",
       "2013-08-23  16.948557  16.707863\n",
       "2011-02-08  11.660433  11.881449\n",
       "2020-09-09  80.762878  79.401387\n",
       "2014-07-16  22.567510  22.990179\n",
       "\n",
       "[617 rows x 2 columns]"
      ]
     },
     "execution_count": 403,
     "metadata": {},
     "output_type": "execute_result"
    }
   ],
   "source": [
    "##### Data Visualization #####\n",
    "\n",
    "#convert array to dataframe\n",
    "y_pred = pd.DataFrame(y_pred)\n",
    "\n",
    "#adding column name\n",
    "y_pred.columns = [\"Predicted\"]\n",
    "\n",
    "#combine dataframe y_pred to y_test\n",
    "y_test['Predicted'] = y_pred['Predicted'].values\n",
    "\n",
    "y_test"
   ]
  },
  {
   "cell_type": "code",
   "execution_count": 404,
   "id": "05871447-bfdb-496d-8fa2-28a4a16cc0f8",
   "metadata": {},
   "outputs": [
    {
     "data": {
      "image/png": "[encoded data removed]",
      "text/plain": [
       "<Figure size 864x720 with 1 Axes>"
      ]
     },
     "metadata": {
      "needs_background": "light"
     },
     "output_type": "display_data"
    }
   ],
   "source": [
    "sns.lmplot(x='EMA_10',y='Predicted',data=y_test,order=2, line_kws={'color':'red'} ,height=10,aspect=1.2)\n",
    "plt.xlabel(\"Actual EMA-10\",fontsize=15)\n",
    "plt.ylabel(\"Predicted\",fontsize=15)\n",
    "plt.show()"
   ]
  },
  {
   "cell_type": "code",
   "execution_count": 405,
   "id": "50153be7-3269-46e5-9a92-02fe6044f794",
   "metadata": {},
   "outputs": [
    {
     "data": {
      "text/html": [
       "<div>\n",
       "<style scoped>\n",
       "    .dataframe tbody tr th:only-of-type {\n",
       "        vertical-align: middle;\n",
       "    }\n",
       "\n",
       "    .dataframe tbody tr th {\n",
       "        vertical-align: top;\n",
       "    }\n",
       "\n",
       "    .dataframe thead th {\n",
       "        text-align: right;\n",
       "    }\n",
       "</style>\n",
       "<table border=\"1\" class=\"dataframe\">\n",
       "  <thead>\n",
       "    <tr style=\"text-align: right;\">\n",
       "      <th></th>\n",
       "      <th>Close</th>\n",
       "      <th>EMA_10</th>\n",
       "    </tr>\n",
       "    <tr>\n",
       "      <th>Date</th>\n",
       "      <th></th>\n",
       "      <th></th>\n",
       "    </tr>\n",
       "  </thead>\n",
       "  <tbody>\n",
       "    <tr>\n",
       "      <th>2010-01-15</th>\n",
       "      <td>10.89</td>\n",
       "      <td>11.009000</td>\n",
       "    </tr>\n",
       "    <tr>\n",
       "      <th>2010-01-19</th>\n",
       "      <td>10.84</td>\n",
       "      <td>10.978273</td>\n",
       "    </tr>\n",
       "    <tr>\n",
       "      <th>2010-01-20</th>\n",
       "      <td>10.82</td>\n",
       "      <td>10.949496</td>\n",
       "    </tr>\n",
       "    <tr>\n",
       "      <th>2010-01-21</th>\n",
       "      <td>10.59</td>\n",
       "      <td>10.884133</td>\n",
       "    </tr>\n",
       "    <tr>\n",
       "      <th>2010-01-22</th>\n",
       "      <td>10.37</td>\n",
       "      <td>10.790654</td>\n",
       "    </tr>\n",
       "  </tbody>\n",
       "</table>\n",
       "</div>"
      ],
      "text/plain": [
       "            Close     EMA_10\n",
       "Date                        \n",
       "2010-01-15  10.89  11.009000\n",
       "2010-01-19  10.84  10.978273\n",
       "2010-01-20  10.82  10.949496\n",
       "2010-01-21  10.59  10.884133\n",
       "2010-01-22  10.37  10.790654"
      ]
     },
     "execution_count": 405,
     "metadata": {},
     "output_type": "execute_result"
    }
   ],
   "source": [
    "#interpretation\n",
    "\n",
    "df.head()"
   ]
  },
  {
   "cell_type": "code",
   "execution_count": 407,
   "id": "d3413a85-8fdc-456e-924e-e80e2069e951",
   "metadata": {},
   "outputs": [
    {
     "data": {
      "text/plain": [
       "(array([0, 1, 2, 3, 4, 5, 6, 7, 8, 9]),\n",
       " [Text(0, 0, '2016-08-18 00:00:00'),\n",
       "  Text(1, 0, '2020-09-23 00:00:00'),\n",
       "  Text(2, 0, '2017-04-04 00:00:00'),\n",
       "  Text(3, 0, '2016-05-16 00:00:00'),\n",
       "  Text(4, 0, '2021-11-26 00:00:00'),\n",
       "  Text(5, 0, '2010-08-04 00:00:00'),\n",
       "  Text(6, 0, '2022-04-01 00:00:00'),\n",
       "  Text(7, 0, '2012-08-21 00:00:00'),\n",
       "  Text(8, 0, '2019-12-12 00:00:00'),\n",
       "  Text(9, 0, '2010-05-25 00:00:00')])"
      ]
     },
     "execution_count": 407,
     "metadata": {},
     "output_type": "execute_result"
    },
    {
     "data": {
      "image/png": "[encoded data removed]",
      "text/plain": [
       "<Figure size 1080x576 with 1 Axes>"
      ]
     },
     "metadata": {
      "needs_background": "light"
     },
     "output_type": "display_data"
    }
   ],
   "source": [
    "y_test.head(10).plot(kind='bar',figsize=(15,8))\n",
    "plt.title('Differences between EMA_10 Price and Predicted Price',fontsize=15)\n",
    "plt.xlabel('Date',fontsize=15)\n",
    "plt.ylabel('Price',fontsize=15)\n",
    "plt.xticks(rotation=45)"
   ]
  },
  {
   "cell_type": "code",
   "execution_count": 408,
   "id": "90853641-39c1-415a-8b6d-5d8c15acb6be",
   "metadata": {},
   "outputs": [],
   "source": [
    "x=df[['Close']]\n",
    "\n",
    "y_predict2 = model.predict(x)"
   ]
  },
  {
   "cell_type": "code",
   "execution_count": 409,
   "id": "4741f894-2006-4def-9d9e-396e02f9d7e5",
   "metadata": {},
   "outputs": [
    {
     "name": "stderr",
     "output_type": "stream",
     "text": [
      "/var/folders/83/r7pz3mp556l3dv55tswrdz9r0000gn/T/ipykernel_93527/3602459743.py:5: SettingWithCopyWarning: \n",
      "A value is trying to be set on a copy of a slice from a DataFrame.\n",
      "Try using .loc[row_indexer,col_indexer] = value instead\n",
      "\n",
      "See the caveats in the documentation: https://pandas.pydata.org/pandas-docs/stable/user_guide/indexing.html#returning-a-view-versus-a-copy\n",
      "  df['Predicted'] = y_predict2['Predicted'].values\n"
     ]
    },
    {
     "data": {
      "text/html": [
       "<div>\n",
       "<style scoped>\n",
       "    .dataframe tbody tr th:only-of-type {\n",
       "        vertical-align: middle;\n",
       "    }\n",
       "\n",
       "    .dataframe tbody tr th {\n",
       "        vertical-align: top;\n",
       "    }\n",
       "\n",
       "    .dataframe thead th {\n",
       "        text-align: right;\n",
       "    }\n",
       "</style>\n",
       "<table border=\"1\" class=\"dataframe\">\n",
       "  <thead>\n",
       "    <tr style=\"text-align: right;\">\n",
       "      <th></th>\n",
       "      <th>Close</th>\n",
       "      <th>EMA_10</th>\n",
       "      <th>Predicted</th>\n",
       "    </tr>\n",
       "    <tr>\n",
       "      <th>Date</th>\n",
       "      <th></th>\n",
       "      <th></th>\n",
       "      <th></th>\n",
       "    </tr>\n",
       "  </thead>\n",
       "  <tbody>\n",
       "    <tr>\n",
       "      <th>2010-01-15</th>\n",
       "      <td>10.89</td>\n",
       "      <td>11.009000</td>\n",
       "      <td>10.894228</td>\n",
       "    </tr>\n",
       "    <tr>\n",
       "      <th>2010-01-19</th>\n",
       "      <td>10.84</td>\n",
       "      <td>10.978273</td>\n",
       "      <td>10.844368</td>\n",
       "    </tr>\n",
       "    <tr>\n",
       "      <th>2010-01-20</th>\n",
       "      <td>10.82</td>\n",
       "      <td>10.949496</td>\n",
       "      <td>10.824424</td>\n",
       "    </tr>\n",
       "    <tr>\n",
       "      <th>2010-01-21</th>\n",
       "      <td>10.59</td>\n",
       "      <td>10.884133</td>\n",
       "      <td>10.595070</td>\n",
       "    </tr>\n",
       "    <tr>\n",
       "      <th>2010-01-22</th>\n",
       "      <td>10.37</td>\n",
       "      <td>10.790654</td>\n",
       "      <td>10.375688</td>\n",
       "    </tr>\n",
       "  </tbody>\n",
       "</table>\n",
       "</div>"
      ],
      "text/plain": [
       "            Close     EMA_10  Predicted\n",
       "Date                                   \n",
       "2010-01-15  10.89  11.009000  10.894228\n",
       "2010-01-19  10.84  10.978273  10.844368\n",
       "2010-01-20  10.82  10.949496  10.824424\n",
       "2010-01-21  10.59  10.884133  10.595070\n",
       "2010-01-22  10.37  10.790654  10.375688"
      ]
     },
     "execution_count": 409,
     "metadata": {},
     "output_type": "execute_result"
    }
   ],
   "source": [
    "y_predict2 = pd.DataFrame(y_predict2)\n",
    "\n",
    "y_predict2.columns = [\"Predicted\"]\n",
    "\n",
    "df['Predicted'] = y_predict2['Predicted'].values\n",
    "\n",
    "df.head()"
   ]
  },
  {
   "cell_type": "code",
   "execution_count": 411,
   "id": "73327ce6-2c79-4105-bf3a-4da11c656f0b",
   "metadata": {},
   "outputs": [],
   "source": [
    "df2 = histdata.iloc[9:].drop(['Date','High','Low','Close','Volume','Currency'],axis=1)\n",
    "df2['Adjusted Close'] = df['EMA_10'].values\n",
    "df2['Predicted'] = df['Predicted'].values\n",
    "df2['Diff'] = df2['Open'] - df2['Predicted']"
   ]
  },
  {
   "cell_type": "code",
   "execution_count": 415,
   "id": "1db78711-5326-4911-a593-e668f30f5ef4",
   "metadata": {},
   "outputs": [],
   "source": [
    "#Change +ve result in Decision column to 'Sell', -ve to 'Buy' and 0 to 'Hold'\n",
    "df2['Decision'] = df2['Diff'].apply(lambda x: 'Sell' if x > 0 else('Buy' if x < 0 else 'Hold'))"
   ]
  },
  {
   "cell_type": "code",
   "execution_count": 416,
   "id": "703fb857-e784-4b71-852d-3df2921fc321",
   "metadata": {},
   "outputs": [
    {
     "data": {
      "text/html": [
       "<div>\n",
       "<style scoped>\n",
       "    .dataframe tbody tr th:only-of-type {\n",
       "        vertical-align: middle;\n",
       "    }\n",
       "\n",
       "    .dataframe tbody tr th {\n",
       "        vertical-align: top;\n",
       "    }\n",
       "\n",
       "    .dataframe thead th {\n",
       "        text-align: right;\n",
       "    }\n",
       "</style>\n",
       "<table border=\"1\" class=\"dataframe\">\n",
       "  <thead>\n",
       "    <tr style=\"text-align: right;\">\n",
       "      <th></th>\n",
       "      <th>Decision</th>\n",
       "    </tr>\n",
       "  </thead>\n",
       "  <tbody>\n",
       "    <tr>\n",
       "      <th>Sell</th>\n",
       "      <td>1625</td>\n",
       "    </tr>\n",
       "    <tr>\n",
       "      <th>Buy</th>\n",
       "      <td>1460</td>\n",
       "    </tr>\n",
       "  </tbody>\n",
       "</table>\n",
       "</div>"
      ],
      "text/plain": [
       "      Decision\n",
       "Sell      1625\n",
       "Buy       1460"
      ]
     },
     "execution_count": 416,
     "metadata": {},
     "output_type": "execute_result"
    }
   ],
   "source": [
    "a = df2['Decision'].value_counts()\n",
    "pd.DataFrame(a)"
   ]
  },
  {
   "cell_type": "code",
   "execution_count": 419,
   "id": "10ef35de-1e5e-4b9e-886f-d7621bd82f33",
   "metadata": {},
   "outputs": [
    {
     "data": {
      "text/html": [
       "<div>\n",
       "<style scoped>\n",
       "    .dataframe tbody tr th:only-of-type {\n",
       "        vertical-align: middle;\n",
       "    }\n",
       "\n",
       "    .dataframe tbody tr th {\n",
       "        vertical-align: top;\n",
       "    }\n",
       "\n",
       "    .dataframe thead th {\n",
       "        text-align: right;\n",
       "    }\n",
       "</style>\n",
       "<table border=\"1\" class=\"dataframe\">\n",
       "  <thead>\n",
       "    <tr style=\"text-align: right;\">\n",
       "      <th></th>\n",
       "      <th>Open</th>\n",
       "      <th>Adjusted Close</th>\n",
       "      <th>Predicted</th>\n",
       "      <th>Diff</th>\n",
       "      <th>Decision</th>\n",
       "    </tr>\n",
       "    <tr>\n",
       "      <th>Date</th>\n",
       "      <th></th>\n",
       "      <th></th>\n",
       "      <th></th>\n",
       "      <th></th>\n",
       "      <th></th>\n",
       "    </tr>\n",
       "  </thead>\n",
       "  <tbody>\n",
       "    <tr>\n",
       "      <th>2010-01-15</th>\n",
       "      <td>11.02</td>\n",
       "      <td>11.009000</td>\n",
       "      <td>10.894228</td>\n",
       "      <td>0.125772</td>\n",
       "      <td>Sell</td>\n",
       "    </tr>\n",
       "    <tr>\n",
       "      <th>2010-01-19</th>\n",
       "      <td>10.90</td>\n",
       "      <td>10.978273</td>\n",
       "      <td>10.844368</td>\n",
       "      <td>0.055632</td>\n",
       "      <td>Sell</td>\n",
       "    </tr>\n",
       "    <tr>\n",
       "      <th>2010-01-20</th>\n",
       "      <td>10.78</td>\n",
       "      <td>10.949496</td>\n",
       "      <td>10.824424</td>\n",
       "      <td>-0.044424</td>\n",
       "      <td>Buy</td>\n",
       "    </tr>\n",
       "    <tr>\n",
       "      <th>2010-01-21</th>\n",
       "      <td>10.83</td>\n",
       "      <td>10.884133</td>\n",
       "      <td>10.595070</td>\n",
       "      <td>0.234930</td>\n",
       "      <td>Sell</td>\n",
       "    </tr>\n",
       "    <tr>\n",
       "      <th>2010-01-22</th>\n",
       "      <td>10.56</td>\n",
       "      <td>10.790654</td>\n",
       "      <td>10.375688</td>\n",
       "      <td>0.184312</td>\n",
       "      <td>Sell</td>\n",
       "    </tr>\n",
       "    <tr>\n",
       "      <th>2010-01-25</th>\n",
       "      <td>10.38</td>\n",
       "      <td>10.668717</td>\n",
       "      <td>10.126389</td>\n",
       "      <td>0.253611</td>\n",
       "      <td>Sell</td>\n",
       "    </tr>\n",
       "    <tr>\n",
       "      <th>2010-01-26</th>\n",
       "      <td>10.11</td>\n",
       "      <td>10.548950</td>\n",
       "      <td>10.016698</td>\n",
       "      <td>0.093302</td>\n",
       "      <td>Sell</td>\n",
       "    </tr>\n",
       "    <tr>\n",
       "      <th>2010-01-27</th>\n",
       "      <td>9.97</td>\n",
       "      <td>10.514596</td>\n",
       "      <td>10.365716</td>\n",
       "      <td>-0.395716</td>\n",
       "      <td>Buy</td>\n",
       "    </tr>\n",
       "    <tr>\n",
       "      <th>2010-01-28</th>\n",
       "      <td>10.34</td>\n",
       "      <td>10.466487</td>\n",
       "      <td>10.256024</td>\n",
       "      <td>0.083976</td>\n",
       "      <td>Sell</td>\n",
       "    </tr>\n",
       "    <tr>\n",
       "      <th>2010-01-29</th>\n",
       "      <td>10.31</td>\n",
       "      <td>10.410762</td>\n",
       "      <td>10.166277</td>\n",
       "      <td>0.143723</td>\n",
       "      <td>Sell</td>\n",
       "    </tr>\n",
       "  </tbody>\n",
       "</table>\n",
       "</div>"
      ],
      "text/plain": [
       "             Open  Adjusted Close  Predicted      Diff Decision\n",
       "Date                                                           \n",
       "2010-01-15  11.02       11.009000  10.894228  0.125772     Sell\n",
       "2010-01-19  10.90       10.978273  10.844368  0.055632     Sell\n",
       "2010-01-20  10.78       10.949496  10.824424 -0.044424      Buy\n",
       "2010-01-21  10.83       10.884133  10.595070  0.234930     Sell\n",
       "2010-01-22  10.56       10.790654  10.375688  0.184312     Sell\n",
       "2010-01-25  10.38       10.668717  10.126389  0.253611     Sell\n",
       "2010-01-26  10.11       10.548950  10.016698  0.093302     Sell\n",
       "2010-01-27   9.97       10.514596  10.365716 -0.395716      Buy\n",
       "2010-01-28  10.34       10.466487  10.256024  0.083976     Sell\n",
       "2010-01-29  10.31       10.410762  10.166277  0.143723     Sell"
      ]
     },
     "execution_count": 419,
     "metadata": {},
     "output_type": "execute_result"
    }
   ],
   "source": [
    "#Finally we have developed our model based on historical price and EMA indicator\n",
    "#We also evaluated and satisfied with our model performance and accuracy\n",
    "#Our goal is to develop a model that can use EMA of any given day (based on last 9 days data) to predict the value of closing price on that day\n",
    "#By taking the difference between the open and predicted close price, we can determine whether we should buy/hold/sell the stock\n",
    "\n",
    "df2.head(10)"
   ]
  },
  {
   "cell_type": "code",
   "execution_count": 420,
   "id": "f656b061-13e4-44a5-b706-7d1c8b032f22",
   "metadata": {},
   "outputs": [],
   "source": [
    "#Write the output to local\n",
    "df2.to_csv('Blizzard Model Output.csv')"
   ]
  }
 ],
 "metadata": {
  "kernelspec": {
   "display_name": "Python 3 (ipykernel)",
   "language": "python",
   "name": "python3"
  },
  "language_info": {
   "codemirror_mode": {
    "name": "ipython",
    "version": 3
   },
   "file_extension": ".py",
   "mimetype": "text/x-python",
   "name": "python",
   "nbconvert_exporter": "python",
   "pygments_lexer": "ipython3",
   "version": "3.8.8"
  }
 },
 "nbformat": 4,
 "nbformat_minor": 5
}
